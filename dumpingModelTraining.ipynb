{
 "cells": [
  {
   "cell_type": "code",
   "execution_count": null,
   "metadata": {},
   "outputs": [],
   "source": [
    "import pandas as pd\n",
    "from sklearn.tree import DecisionTreeClassifier\n",
    "from sklearn.model_selection import train_test_split #Used to split data into two sets (training and testing)\n",
    "from sklearn.metrics import accuracy_score\n",
    "import joblib\n",
    "\n",
    "musicData = pd.read_csv('music.csv')\n",
    "\n",
    "inputSet = musicData.drop(columns = ['genre'])\n",
    "outputSet = musicData['genre']\n",
    "\n",
    "#Training the model\n",
    "model = DecisionTreeClassifier()\n",
    "model.fit(inputSet, outputSet)\n",
    "\n",
    "joblib.dump(model, 'music-recommender.joblib') #Store the trained model into the music recommender file\n"
   ]
  }
 ],
 "metadata": {
  "language_info": {
   "name": "python"
  }
 },
 "nbformat": 4,
 "nbformat_minor": 2
}
