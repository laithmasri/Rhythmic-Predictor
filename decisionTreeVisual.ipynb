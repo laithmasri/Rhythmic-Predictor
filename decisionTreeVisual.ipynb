{
 "cells": [
  {
   "cell_type": "code",
   "execution_count": null,
   "metadata": {},
   "outputs": [],
   "source": [
    "import pandas as pd\n",
    "from sklearn.tree import DecisionTreeClassifier\n",
    "from sklearn import tree\n",
    "\n",
    "musicData = pd.read_csv('music.csv')\n",
    "\n",
    "inputSet = musicData.drop(columns = ['genre'])\n",
    "outputSet = musicData['genre']\n",
    "\n",
    "#Training the model\n",
    "model = DecisionTreeClassifier()\n",
    "model.fit(inputSet, outputSet)\n",
    "\n",
    "tree.export_graphviz(model, out_file='music-recommender.dot',\n",
    "                     feature_names=['age', 'gender'],\n",
    "                     class_names=sorted(outputSet.unique()),\n",
    "                     label='all',\n",
    "                     rounded=True,\n",
    "                     filled=True)"
   ]
  }
 ],
 "metadata": {
  "language_info": {
   "name": "python"
  }
 },
 "nbformat": 4,
 "nbformat_minor": 2
}
