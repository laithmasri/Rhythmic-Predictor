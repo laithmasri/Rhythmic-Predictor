{
 "cells": [
  {
   "cell_type": "code",
   "execution_count": null,
   "metadata": {},
   "outputs": [],
   "source": [
    "import pandas as pd\n",
    "from sklearn.tree import DecisionTreeClassifier\n",
    "from sklearn.model_selection import train_test_split #Used to split data into two sets (training and testing)\n",
    "from sklearn.metrics import accuracy_score\n",
    "import joblib\n",
    "\n",
    "model = joblib.load('music-recommender.joblib') #Load the trained model into the music recommender file\n",
    "\n",
    "prediction = model.predict([[21, 1]])\n",
    "prediction"
   ]
  }
 ],
 "metadata": {
  "language_info": {
   "name": "python"
  }
 },
 "nbformat": 4,
 "nbformat_minor": 2
}
