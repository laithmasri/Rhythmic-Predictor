{
 "cells": [
  {
   "cell_type": "code",
   "execution_count": null,
   "metadata": {},
   "outputs": [],
   "source": [
    "import pandas as pd\n",
    "from sklearn.tree import DecisionTreeClassifier\n",
    "from sklearn.model_selection import train_test_split #Used to split data into two sets (training and testing)\n",
    "from sklearn.metrics import accuracy_score\n",
    "musicData = pd.read_csv('music.csv')\n",
    "\n",
    "inputSet = musicData.drop(columns = ['genre'])\n",
    "outputSet = musicData['genre']\n",
    "inputSet_train, inputSet_test, outputSet_train, outputSet_test = train_test_split(inputSet, outputSet, test_size=0.2) #Allocating 20% of data for testing (returns a tuple)\n",
    "\n",
    "#Training the model\n",
    "model = DecisionTreeClassifier()\n",
    "model.fit(inputSet_train, outputSet_train)\n",
    "\n",
    "#Checking the predictions\n",
    "prediction = model.predict(inputSet_test)\n",
    "\n",
    "#Calculating the accuracy score\n",
    "accuracyScore = accuracy_score(outputSet_test, prediction)\n",
    "accuracyScore"
   ]
  }
 ],
 "metadata": {
  "language_info": {
   "name": "python"
  }
 },
 "nbformat": 4,
 "nbformat_minor": 2
}
