{
 "cells": [
  {
   "cell_type": "code",
   "execution_count": null,
   "metadata": {},
   "outputs": [],
   "source": [
    "import pandas as pd\n",
    "from sklearn.tree import DecisionTreeClassifier\n",
    "musicData = pd.read_csv('music.csv')\n",
    "\n",
    "inputSet = musicData.drop(columns = ['genre'])\n",
    "outputSet = musicData['genre']\n",
    "\n",
    "#Training the model\n",
    "model = DecisionTreeClassifier()\n",
    "model.fit(inputSet, outputSet)\n",
    "\n",
    "#Checking the predictions\n",
    "prediction = model.predict([[21, 1], [22, 0]])\n",
    "prediction"
   ]
  }
 ],
 "metadata": {
  "language_info": {
   "name": "python"
  }
 },
 "nbformat": 4,
 "nbformat_minor": 2
}
